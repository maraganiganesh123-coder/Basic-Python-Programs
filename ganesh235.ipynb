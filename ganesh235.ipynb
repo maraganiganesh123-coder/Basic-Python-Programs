{
 "cells": [
  {
   "cell_type": "code",
   "execution_count": 1,
   "id": "0b7f90b7-c5eb-4068-9bc8-ee102c0ccb5c",
   "metadata": {},
   "outputs": [
    {
     "name": "stdout",
     "output_type": "stream",
     "text": [
      "ganesh\n"
     ]
    }
   ],
   "source": [
    "print(\"ganesh\")"
   ]
  },
  {
   "cell_type": "code",
   "execution_count": 3,
   "id": "e4f3b127-1b47-49a1-a430-02c73aa6651b",
   "metadata": {},
   "outputs": [
    {
     "name": "stdin",
     "output_type": "stream",
     "text": [
      "Enter your name ganesh\n"
     ]
    },
    {
     "name": "stdout",
     "output_type": "stream",
     "text": [
      "your name: ganesh\n"
     ]
    }
   ],
   "source": [
    "name = input(\"Enter your name\")\n",
    "print(\"your name:\",name)\n",
    "      "
   ]
  },
  {
   "cell_type": "code",
   "execution_count": 4,
   "id": "673428ab-57d0-4599-a474-365a735dd670",
   "metadata": {},
   "outputs": [
    {
     "name": "stdin",
     "output_type": "stream",
     "text": [
      "enter first number 235\n",
      "enter second number 233\n"
     ]
    },
    {
     "name": "stdout",
     "output_type": "stream",
     "text": [
      "first number: 235\n",
      "second number: 233\n"
     ]
    }
   ],
   "source": [
    "num1 = input(\"enter first number\")\n",
    "num2 = input(\"enter second number\")\n",
    "print(\"first number:\",num1)\n",
    "print(\"second number:\",num2)"
   ]
  },
  {
   "cell_type": "code",
   "execution_count": 5,
   "id": "6f8cdaa8-385e-4a97-825b-32d1dbae580d",
   "metadata": {},
   "outputs": [
    {
     "name": "stdin",
     "output_type": "stream",
     "text": [
      "enter first number 17\n",
      "enter second number 18\n"
     ]
    },
    {
     "name": "stdout",
     "output_type": "stream",
     "text": [
      "addition of two numbers: 35\n"
     ]
    }
   ],
   "source": [
    "num1 = int(input(\"enter first number\"))\n",
    "num2 = int(input(\"enter second number\"))\n",
    "sum = num1+num2\n",
    "print(\"addition of two numbers:\",sum)"
   ]
  },
  {
   "cell_type": "code",
   "execution_count": 6,
   "id": "585df51a-45ae-4854-857b-b8d12c799649",
   "metadata": {},
   "outputs": [
    {
     "name": "stdin",
     "output_type": "stream",
     "text": [
      "enter the first name venkata\n",
      "enter the second name ganesh\n"
     ]
    },
    {
     "name": "stdout",
     "output_type": "stream",
     "text": [
      "your full name is venkataganesh\n"
     ]
    }
   ],
   "source": [
    "a = input(\"enter the first name\")\n",
    "b = input(\"enter the second name\")\n",
    "name = a+b\n",
    "print(\"your full name is\",name)"
   ]
  },
  {
   "cell_type": "code",
   "execution_count": 7,
   "id": "25c7ee81-a1d4-40f8-9bd2-2866fc623e6c",
   "metadata": {},
   "outputs": [
    {
     "name": "stdin",
     "output_type": "stream",
     "text": [
      " hi\n",
      " ra\n"
     ]
    },
    {
     "name": "stdout",
     "output_type": "stream",
     "text": [
      "hira\n"
     ]
    }
   ],
   "source": [
    "word1 = input()\n",
    "word2 = input()\n",
    "concatenate = word1+\"\"+word2\n",
    "print(concatenate)"
   ]
  },
  {
   "cell_type": "code",
   "execution_count": 8,
   "id": "189e95da-d267-4c28-b93a-eee143dd1045",
   "metadata": {},
   "outputs": [
    {
     "name": "stdout",
     "output_type": "stream",
     "text": [
      "a: 30\n",
      "b: 10\n"
     ]
    }
   ],
   "source": [
    "a = 10;\n",
    "b = 20;\n",
    "a = a+b\n",
    "b = a-b\n",
    "print(\"a:\",a)\n",
    "print(\"b:\",b)\n"
   ]
  },
  {
   "cell_type": "code",
   "execution_count": 9,
   "id": "17541427-2318-4b13-98f5-60087a10b030",
   "metadata": {},
   "outputs": [
    {
     "name": "stdin",
     "output_type": "stream",
     "text": [
      " 3\n",
      " 7\n"
     ]
    },
    {
     "name": "stdout",
     "output_type": "stream",
     "text": [
      "7\n",
      "3\n",
      "3 7\n"
     ]
    }
   ],
   "source": [
    "a = int(input())\n",
    "b = int(input())\n",
    "a = a+b\n",
    "b = a-b\n",
    "a = a-b\n",
    "print(a)\n",
    "print(b)\n",
    "c = a\n",
    "a = b\n",
    "b = c\n",
    "print(a,b)"
   ]
  },
  {
   "cell_type": "code",
   "execution_count": 10,
   "id": "7f2ca4e1-b11c-4087-8cc6-561179383635",
   "metadata": {},
   "outputs": [
    {
     "name": "stdout",
     "output_type": "stream",
     "text": [
      "<class 'int'>\n",
      "<class 'str'>\n",
      "<class 'float'>\n"
     ]
    }
   ],
   "source": [
    "a = 10\n",
    "b = \"hello\"\n",
    "c = 2.43\n",
    "print(type(a))\n",
    "print(type(b))\n",
    "print(type(c))"
   ]
  },
  {
   "cell_type": "code",
   "execution_count": 12,
   "id": "1910cb4f-7a22-4ff0-abb0-8c63789a2aae",
   "metadata": {},
   "outputs": [
    {
     "name": "stdout",
     "output_type": "stream",
     "text": [
      "<class 'list'>\n",
      "<class 'dict'>\n",
      "<class 'set'>\n"
     ]
    }
   ],
   "source": [
    "x = [4,5,6]\n",
    "dict_ = {name:\"nani\"}\n",
    "z = {2,4,56,78,9}\n",
    "print(type(x))\n",
    "print(type(dict_))\n",
    "print(type(z))"
   ]
  },
  {
   "cell_type": "code",
   "execution_count": 13,
   "id": "1681d96b-aff6-434c-9d4b-396530da54be",
   "metadata": {},
   "outputs": [
    {
     "name": "stdin",
     "output_type": "stream",
     "text": [
      " 1\n",
      " 2\n",
      " 3\n"
     ]
    },
    {
     "name": "stdout",
     "output_type": "stream",
     "text": [
      "2.0\n"
     ]
    }
   ],
   "source": [
    "a = int(input())\n",
    "b = int(input())\n",
    "c = int(input())\n",
    "sum = a+b+c\n",
    "print(sum/3)\n"
   ]
  },
  {
   "cell_type": "code",
   "execution_count": 15,
   "id": "2078dfad-3a75-4f29-a5a0-01a1fe69818d",
   "metadata": {},
   "outputs": [
    {
     "name": "stdin",
     "output_type": "stream",
     "text": [
      " 10\n"
     ]
    },
    {
     "name": "stdout",
     "output_type": "stream",
     "text": [
      "100\n"
     ]
    }
   ],
   "source": [
    "num1 = int(input())\n",
    "print(num1*10)"
   ]
  },
  {
   "cell_type": "code",
   "execution_count": 16,
   "id": "2957106a-1201-4c29-82a2-ca85848abb81",
   "metadata": {},
   "outputs": [
    {
     "name": "stdin",
     "output_type": "stream",
     "text": [
      " 10\n"
     ]
    },
    {
     "name": "stdout",
     "output_type": "stream",
     "text": [
      "0.16666666666666666\n"
     ]
    }
   ],
   "source": [
    "a = int(input())\n",
    "print(a/60)\n"
   ]
  },
  {
   "cell_type": "code",
   "execution_count": 17,
   "id": "26bb6ead-6c23-41f7-ad93-8d9abbd68a42",
   "metadata": {},
   "outputs": [
    {
     "name": "stdin",
     "output_type": "stream",
     "text": [
      " 3.5\n",
      " 4.5\n"
     ]
    },
    {
     "name": "stdout",
     "output_type": "stream",
     "text": [
      "15.75\n"
     ]
    }
   ],
   "source": [
    "a = float(input())\n",
    "b = float(input())\n",
    "print(a*b)"
   ]
  },
  {
   "cell_type": "code",
   "execution_count": 18,
   "id": "19d23563-afcc-4887-9784-c594015c9d4b",
   "metadata": {},
   "outputs": [
    {
     "name": "stdin",
     "output_type": "stream",
     "text": [
      " 3\n",
      " 5\n",
      " 8\n"
     ]
    },
    {
     "name": "stdout",
     "output_type": "stream",
     "text": [
      "8\n"
     ]
    }
   ],
   "source": [
    "a = int(input())\n",
    "b = int(input())\n",
    "c = int(input())\n",
    "print(max(a,b,c))"
   ]
  },
  {
   "cell_type": "code",
   "execution_count": 19,
   "id": "b201e943-1c7a-4e58-a59f-4ec284773a51",
   "metadata": {},
   "outputs": [
    {
     "name": "stdin",
     "output_type": "stream",
     "text": [
      " 6\n"
     ]
    },
    {
     "name": "stdout",
     "output_type": "stream",
     "text": [
      "42\n"
     ]
    }
   ],
   "source": [
    "a = int(input())\n",
    "print(a*(a+1))"
   ]
  },
  {
   "cell_type": "code",
   "execution_count": 20,
   "id": "ad69d7cc-5389-4e6b-b378-6f966a569b9d",
   "metadata": {},
   "outputs": [
    {
     "name": "stdin",
     "output_type": "stream",
     "text": [
      " 6\n"
     ]
    },
    {
     "name": "stdout",
     "output_type": "stream",
     "text": [
      "2\n",
      "4\n",
      "6\n"
     ]
    }
   ],
   "source": [
    "a = int(input())\n",
    "for i in range(2,a+1):\n",
    "    if i%2==0:\n",
    "        print(i)"
   ]
  },
  {
   "cell_type": "code",
   "execution_count": 21,
   "id": "51583d6f-35dc-41d7-a406-c76994ce9b58",
   "metadata": {},
   "outputs": [
    {
     "name": "stdin",
     "output_type": "stream",
     "text": [
      " true\n",
      " true\n",
      " 800\n"
     ]
    },
    {
     "name": "stdout",
     "output_type": "stream",
     "text": [
      "loan approved\n"
     ]
    }
   ],
   "source": [
    "pan = bool(input())\n",
    "adhar = bool(input())\n",
    "cibil = int(input())\n",
    "if (pan and adhar and cibil>750):\n",
    "    print(\"loan approved\")\n",
    "else:\n",
    "    print(\"rejected\")\n"
   ]
  },
  {
   "cell_type": "code",
   "execution_count": 22,
   "id": "53ab05f8-27b5-44af-a554-c38bb6381167",
   "metadata": {},
   "outputs": [
    {
     "name": "stdin",
     "output_type": "stream",
     "text": [
      " 4\n",
      " 6\n"
     ]
    },
    {
     "name": "stdout",
     "output_type": "stream",
     "text": [
      "10\n",
      "-2\n",
      "0.6666666666666666\n"
     ]
    }
   ],
   "source": [
    "a = int(input())\n",
    "b = int(input())\n",
    "print(a+b)\n",
    "print(a-b)\n",
    "print(a/b)"
   ]
  },
  {
   "cell_type": "code",
   "execution_count": 23,
   "id": "340621ed-a8d5-49fc-ab96-8d2158a79c5d",
   "metadata": {},
   "outputs": [
    {
     "name": "stdin",
     "output_type": "stream",
     "text": [
      " 6\n"
     ]
    },
    {
     "name": "stdout",
     "output_type": "stream",
     "text": [
      "positive\n"
     ]
    }
   ],
   "source": [
    "a = int(input())\n",
    "if a>0:\n",
    "    print(\"positive\")\n",
    "elif a<0:\n",
    "    print(\"negative\")\n",
    "else:\n",
    "    print(\"zero\")"
   ]
  },
  {
   "cell_type": "code",
   "execution_count": 24,
   "id": "4afdbed7-11dd-4aad-b7c7-6592658684d8",
   "metadata": {},
   "outputs": [
    {
     "name": "stdin",
     "output_type": "stream",
     "text": [
      " 6\n"
     ]
    },
    {
     "name": "stdout",
     "output_type": "stream",
     "text": [
      "even\n"
     ]
    }
   ],
   "source": [
    "a = int(input())\n",
    "if a%2==0:\n",
    "    print(\"even\")\n",
    "else:\n",
    "    print(\"odd\")"
   ]
  },
  {
   "cell_type": "code",
   "execution_count": 25,
   "id": "1f8e72de-290d-4e52-878e-0f9f0d871441",
   "metadata": {},
   "outputs": [
    {
     "name": "stdin",
     "output_type": "stream",
     "text": [
      " 44\n"
     ]
    },
    {
     "name": "stdout",
     "output_type": "stream",
     "text": [
      "divisible\n"
     ]
    }
   ],
   "source": [
    "a = int(input())\n",
    "if a%5==0 or a%11==0:\n",
    "    print(\"divisible\")\n",
    "else:\n",
    "    print(\"not divisible\")"
   ]
  },
  {
   "cell_type": "code",
   "execution_count": null,
   "id": "f18c99e4-1c03-4d25-bd71-a646e0c379fe",
   "metadata": {},
   "outputs": [],
   "source": []
  }
 ],
 "metadata": {
  "kernelspec": {
   "display_name": "Python 3 (ipykernel)",
   "language": "python",
   "name": "python3"
  },
  "language_info": {
   "codemirror_mode": {
    "name": "ipython",
    "version": 3
   },
   "file_extension": ".py",
   "mimetype": "text/x-python",
   "name": "python",
   "nbconvert_exporter": "python",
   "pygments_lexer": "ipython3",
   "version": "3.12.4"
  }
 },
 "nbformat": 4,
 "nbformat_minor": 5
}
